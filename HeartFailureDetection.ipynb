{
 "cells": [
  {
   "cell_type": "code",
   "execution_count": 51,
   "metadata": {},
   "outputs": [
    {
     "data": {
      "text/plain": [
       "0.8333333333333334"
      ]
     },
     "execution_count": 51,
     "metadata": {},
     "output_type": "execute_result"
    }
   ],
   "source": [
    "import pandas as pd\n",
    "from sklearn.tree import DecisionTreeClassifier\n",
    "from sklearn.model_selection import train_test_split\n",
    "from sklearn.metrics import accuracy_score\n",
    "import joblib\n",
    "from sklearn import tree\n",
    "\n",
    "heart_failure_data_set=pd.read_csv('heart_failure_clinical_records_dataset.csv')\n",
    "X=heart_failure_data_set.drop(columns=['DEATH_EVENT'])\n",
    "y=heart_failure_data_set['DEATH_EVENT']\n",
    "\n",
    "X_train,X_test,y_train,y_test=train_test_split(X,y,test_size=.2)\n",
    "\n",
    "# model=DecisionTreeClassifier()\n",
    "# model.fit(X,y)\n",
    "# p=model.predict([[75,0,582,0,20,1,26500,1.9,130,1,0,4]])\n",
    "# p\n",
    "#tree\n",
    "# tree.export_graphviz(model,out_file='heart-diseases-tree.dot',\n",
    "#                      feature_names=['age','anaemia','creatinine_phosphokinase','diabetes',\n",
    "#                                     'ejection_fraction','high_blood_pressure','platelets',\n",
    "#                                     'serum_creatinine','serum_sodium','sex','smoking','time'],\n",
    "#                      class_names=sorted(y.unique()),\n",
    "#                      label='all',rounded=True,filled=True)\n",
    "#testing accuracy\n",
    "model.fit(X_train,y_train)\n",
    "p=model.predict(X_test)\n",
    "\n",
    "# store model\n",
    "# model.fit(X,y)\n",
    "# joblib.dump(model,'heart-diseases-model.joblib')\n",
    "# model=joblib.load('music-model.joblib')\n",
    "# p=model.predict([[75,0,582,0,20,1,26500,1.9,130,1,0,4]])\n",
    "# p\n",
    "\n",
    "accuracy=accuracy_score(y_test,p)\n",
    "accuracy\n",
    "\n"
   ]
  },
  {
   "cell_type": "code",
   "execution_count": null,
   "metadata": {},
   "outputs": [],
   "source": []
  },
  {
   "cell_type": "code",
   "execution_count": null,
   "metadata": {},
   "outputs": [],
   "source": []
  },
  {
   "cell_type": "code",
   "execution_count": null,
   "metadata": {},
   "outputs": [],
   "source": []
  },
  {
   "cell_type": "code",
   "execution_count": null,
   "metadata": {},
   "outputs": [],
   "source": []
  },
  {
   "cell_type": "code",
   "execution_count": null,
   "metadata": {},
   "outputs": [],
   "source": []
  },
  {
   "cell_type": "code",
   "execution_count": null,
   "metadata": {},
   "outputs": [],
   "source": []
  },
  {
   "cell_type": "code",
   "execution_count": null,
   "metadata": {},
   "outputs": [],
   "source": []
  },
  {
   "cell_type": "code",
   "execution_count": null,
   "metadata": {},
   "outputs": [],
   "source": []
  },
  {
   "cell_type": "code",
   "execution_count": null,
   "metadata": {},
   "outputs": [],
   "source": []
  }
 ],
 "metadata": {
  "kernelspec": {
   "display_name": "Python 3",
   "language": "python",
   "name": "python3"
  },
  "language_info": {
   "codemirror_mode": {
    "name": "ipython",
    "version": 3
   },
   "file_extension": ".py",
   "mimetype": "text/x-python",
   "name": "python",
   "nbconvert_exporter": "python",
   "pygments_lexer": "ipython3",
   "version": "3.8.3"
  }
 },
 "nbformat": 4,
 "nbformat_minor": 4
}
